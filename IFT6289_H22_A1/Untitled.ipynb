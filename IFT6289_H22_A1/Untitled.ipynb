{
 "cells": [
  {
   "cell_type": "code",
   "execution_count": 1,
   "id": "3fc3122d",
   "metadata": {},
   "outputs": [],
   "source": [
    "import numpy as np\n",
    "import random"
   ]
  },
  {
   "cell_type": "code",
   "execution_count": 2,
   "id": "2008d137",
   "metadata": {},
   "outputs": [],
   "source": [
    "from utils.utils import sigmoid, softmax, get_negative_samples\n"
   ]
  },
  {
   "cell_type": "code",
   "execution_count": 3,
   "id": "86d810f5",
   "metadata": {},
   "outputs": [],
   "source": [
    "def naive_softmax_loss_and_gradient(input_vector,output_word_idx,output_vectors,dataset):\n",
    "    \n",
    "    scores = np.matmul(output_vectors, input_vector)   # (vocab_size,1)\n",
    "    # print(scores.shape)\n",
    "    probs = softmax(scores)                          # (vocab_size,1)  y_hat\n",
    "\n",
    "    loss = -np.log(probs[outsideWordIdx])\n",
    "\n",
    "    dscores = probs.copy()   # (vocab_size,1)\n",
    "    dscores[output_word_idx] = dscores[output_word_idx] - 1   #  y_hat minus y\n",
    "    gradCenterVec = np.matmul(output_vectors.T, dscores)  # (embedding_dim,1)\n",
    "\n",
    "    # print(dscores.shape) # (5,)\n",
    "    # print(centerWordVec.shape) # (3,)\n",
    "    # exit()\n",
    "\n",
    "    gradOutsideVecs = np.outer(dscores, input_vector) # (vocab_size,embedding_dim)\n",
    "\n",
    "    ### END YOUR CODE\n",
    "\n",
    "    return loss, gradCenterVec, gradOutsideVecs\n"
   ]
  },
  {
   "cell_type": "code",
   "execution_count": null,
   "id": "8f27296b",
   "metadata": {},
   "outputs": [],
   "source": []
  }
 ],
 "metadata": {
  "kernelspec": {
   "display_name": "Python 3 (ipykernel)",
   "language": "python",
   "name": "python3"
  },
  "language_info": {
   "codemirror_mode": {
    "name": "ipython",
    "version": 3
   },
   "file_extension": ".py",
   "mimetype": "text/x-python",
   "name": "python",
   "nbconvert_exporter": "python",
   "pygments_lexer": "ipython3",
   "version": "3.7.7"
  }
 },
 "nbformat": 4,
 "nbformat_minor": 5
}
